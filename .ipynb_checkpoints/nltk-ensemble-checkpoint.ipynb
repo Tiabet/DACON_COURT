{
 "cells": [
  {
   "cell_type": "code",
   "execution_count": 2,
   "id": "dc0558d8-d314-4acf-b577-8af424125e61",
   "metadata": {},
   "outputs": [],
   "source": [
    "import pandas as pd\n",
    "import numpy as np\n",
    "import nltk\n",
    "from nltk.tokenize import word_tokenize\n",
    "from sklearn.ensemble import RandomForestClassifier\n",
    "from sklearn.linear_model import LogisticRegression\n",
    "from sklearn.model_selection import train_test_split\n",
    "from sklearn.metrics import accuracy_score\n",
    "from mlxtend.classifier import EnsembleVoteClassifier\n",
    "from lightgbm import LGBMClassifier\n",
    "from xgboost import XGBClassifier\n",
    "from sklearn.preprocessing import OneHotEncoder\n",
    "from sklearn.compose import ColumnTransformer\n",
    "from sklearn.feature_extraction.text import TfidfVectorizer"
   ]
  },
  {
   "cell_type": "code",
   "execution_count": 3,
   "id": "ac3cba53-845c-4715-9ea4-d2109b61f7c6",
   "metadata": {},
   "outputs": [],
   "source": [
    "# Read the dataset\n",
    "train = pd.read_csv('./dataset/train.csv')\n",
    "test = pd.read_csv('./dataset/test.csv')\n",
    "\n",
    "def tokenize(text):\n",
    "    tokens = word_tokenize(text)\n",
    "    return tokens\n",
    "\n",
    "def get_vector(df, train_mode):\n",
    "    if train_mode:\n",
    "        df['tokens'] = df['facts'].apply(tokenize)\n",
    "    else:\n",
    "        df['tokens'] = df['facts'].apply(tokenize)\n",
    "    \n",
    "    tokenized_text = df['tokens'].apply(lambda x: ' '.join(x))\n",
    "    X_party1 = df['first_party']\n",
    "    X_party2 = df['second_party']\n",
    "\n",
    "    X = np.concatenate([X_party1.values.reshape(-1, 1), X_party2.values.reshape(-1, 1), tokenized_text.values.reshape(-1, 1)], axis=1)\n",
    "    return X\n",
    "\n",
    "X_train = get_vector(train, True)\n",
    "y_train = train[\"first_party_winner\"]\n",
    "X_test = get_vector(test, False)\n",
    "\n",
    "# Split the data into train and validation sets\n",
    "X_train, X_val, y_train, y_val = train_test_split(X_train, y_train, test_size=0.2, random_state=42)\n"
   ]
  },
  {
   "cell_type": "code",
   "execution_count": 4,
   "id": "20fb2463-f032-4e2f-8c84-3ac06f8f4060",
   "metadata": {},
   "outputs": [],
   "source": [
    "# Tokenize text using TfidfVectorizer\n",
    "vectorizer = TfidfVectorizer()\n",
    "X_train_text = vectorizer.fit_transform(X_train[:, 2])\n",
    "X_test_text = vectorizer.transform(X_test[:, 2])\n",
    "\n",
    "ct = ColumnTransformer([('encoder', OneHotEncoder(), [0, 1])], remainder='passthrough')\n",
    "X_train_categorical = ct.fit_transform(X_train[:, :2])\n",
    "X_test_categorical = ct.fit_transform(X_test[:, :2])\n"
   ]
  },
  {
   "cell_type": "code",
   "execution_count": 5,
   "id": "f8708dd5-af49-4429-8598-07c4a4991006",
   "metadata": {},
   "outputs": [],
   "source": [
    "# Combine the encoded categorical features with the text features\n",
    "X_train_encoded = np.concatenate([X_train_categorical.toarray(), X_train_text.toarray()], axis=1)\n",
    "X_test_encoded = np.concatenate([X_test_categorical.toarray(), X_test_text.toarray()], axis=1)\n",
    "\n",
    "# Split the data into train and validation sets\n",
    "X_train_encoded, X_val_encoded, y_train, y_val = train_test_split(X_train_encoded, y_train, test_size=0.2, random_state=42)\n"
   ]
  },
  {
   "cell_type": "code",
   "execution_count": 10,
   "id": "bf4d16f6-32e4-4215-b029-359186755768",
   "metadata": {},
   "outputs": [
    {
     "name": "stdout",
     "output_type": "stream",
     "text": [
      "rf Validation Accuracy: 0.6297229219143576\n",
      "lr Validation Accuracy: 0.6448362720403022\n",
      "lgbm Validation Accuracy: 0.5919395465994962\n",
      "xgb Validation Accuracy: 0.6070528967254408\n"
     ]
    }
   ],
   "source": [
    "# Define the base models\n",
    "base_models = [\n",
    "    ('rf', RandomForestClassifier()),\n",
    "    ('lr', LogisticRegression()),\n",
    "    ('lgbm', LGBMClassifier()),\n",
    "    ('xgb', XGBClassifier())\n",
    "]\n",
    "\n",
    "# Initialize the EnsembleVoteClassifier\n",
    "ensemble = EnsembleVoteClassifier(clfs=[model for _, model in base_models], voting='soft')\n",
    "\n",
    "# Train the base models\n",
    "for name, model in base_models:\n",
    "    model.fit(X_train_encoded, y_train)\n",
    "    y_pred_val = model.predict(X_val_encoded)\n",
    "    accuracy = accuracy_score(y_val, y_pred_val)\n",
    "    print(f\"{name} Validation Accuracy: {accuracy}\")"
   ]
  },
  {
   "cell_type": "code",
   "execution_count": null,
   "id": "5cded80d-c9bd-4343-9547-a3fc59c3de82",
   "metadata": {},
   "outputs": [],
   "source": [
    "# Train the ensemble model\n",
    "ensemble.fit(X_train_encoded, y_train)\n",
    "y_pred_val_ensemble = ensemble.predict(X_val_encoded)\n",
    "accuracy_ensemble = accuracy_score(y_val, y_pred_val_ensemble)\n",
    "print(f\"Ensemble Validation Accuracy: {accuracy_ensemble}\")"
   ]
  },
  {
   "cell_type": "code",
   "execution_count": null,
   "id": "2e823510-ec2f-4247-a25b-4104bcd26a3e",
   "metadata": {},
   "outputs": [],
   "source": [
    "# Predict on the test set using the ensemble model\n",
    "y_pred_test = ensemble.predict(X_test_encoded)\n",
    "\n",
    "# Prepare submission DataFrame\n",
    "submission = pd.DataFrame({'ID': test['ID'], 'first_party_winner': y_pred_test})\n",
    "\n",
    "# Save the submission file\n",
    "submission.to_csv('ensemble_submission_4.csv', index=False)\n",
    "print(\"Submission file saved.\")\n"
   ]
  }
 ],
 "metadata": {
  "kernelspec": {
   "display_name": "Python 3 (ipykernel)",
   "language": "python",
   "name": "python3"
  },
  "language_info": {
   "codemirror_mode": {
    "name": "ipython",
    "version": 3
   },
   "file_extension": ".py",
   "mimetype": "text/x-python",
   "name": "python",
   "nbconvert_exporter": "python",
   "pygments_lexer": "ipython3",
   "version": "3.9.13"
  }
 },
 "nbformat": 4,
 "nbformat_minor": 5
}
