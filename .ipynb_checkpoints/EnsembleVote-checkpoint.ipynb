{
 "cells": [
  {
   "cell_type": "code",
   "execution_count": 10,
   "id": "7cc95410-f388-4802-a9f9-299f579293a9",
   "metadata": {},
   "outputs": [],
   "source": [
    "import pandas as pd\n",
    "import numpy as np\n",
    "from sklearn.feature_extraction.text import TfidfVectorizer\n",
    "from sklearn.ensemble import RandomForestClassifier\n",
    "from sklearn.linear_model import LogisticRegression\n",
    "from sklearn.model_selection import train_test_split\n",
    "from sklearn.metrics import accuracy_score\n",
    "from mlxtend.classifier import EnsembleVoteClassifier\n",
    "from lightgbm import LGBMClassifier\n",
    "\n",
    "# Read the dataset\n",
    "train = pd.read_csv('./dataset/train.csv')\n",
    "test = pd.read_csv('./dataset/test.csv')\n",
    "\n",
    "vectorizer = TfidfVectorizer()\n",
    "\n",
    "def get_vector(vectorizer, df, train_mode):\n",
    "    if train_mode:\n",
    "        X_facts = vectorizer.fit_transform(df['facts'])\n",
    "    else:\n",
    "        X_facts = vectorizer.transform(df['facts'])\n",
    "    X_party1 = vectorizer.transform(df['first_party'])\n",
    "    X_party2 = vectorizer.transform(df['second_party'])\n",
    "\n",
    "    X = np.concatenate([X_party1.todense(), X_party2.todense(), X_facts.todense()], axis=1)\n",
    "    return X\n",
    "\n",
    "X_train = get_vector(vectorizer, train, True)\n",
    "y_train = train[\"first_party_winner\"]\n",
    "X_test = get_vector(vectorizer, test, False)\n",
    "\n",
    "# Split the data into train and validation sets\n",
    "X_train, X_val, y_train, y_val = train_test_split(X_train, y_train, test_size=0.2, random_state=42)\n"
   ]
  },
  {
   "cell_type": "code",
   "execution_count": 6,
   "id": "0f6bf087-d33b-4f5d-ae1c-08a7bc6f77cb",
   "metadata": {},
   "outputs": [
    {
     "name": "stdout",
     "output_type": "stream",
     "text": [
      "rf Validation Accuracy: 0.6512096774193549\n",
      "lr Validation Accuracy: 0.6532258064516129\n",
      "lgbm Validation Accuracy: 0.6108870967741935\n"
     ]
    }
   ],
   "source": [
    "# Define the base models\n",
    "base_models = [\n",
    "    ('rf', RandomForestClassifier()),\n",
    "    ('lr', LogisticRegression()),\n",
    "    ('lgbm', LGBMClassifier())\n",
    "]\n",
    "\n",
    "# Initialize the EnsembleVoteClassifier\n",
    "ensemble = EnsembleVoteClassifier(clfs=[model for _, model in base_models], voting='soft')\n",
    "\n",
    "# Train the base models\n",
    "for name, model in base_models:\n",
    "    model.fit(X_train, y_train)\n",
    "    y_pred_val = model.predict(X_val)\n",
    "    accuracy = accuracy_score(y_val, y_pred_val)\n",
    "    print(f\"{name} Validation Accuracy: {accuracy}\")"
   ]
  },
  {
   "cell_type": "code",
   "execution_count": 5,
   "id": "a5d9c434-b2ca-46f5-8991-bb37bb3b4d58",
   "metadata": {},
   "outputs": [],
   "source": [
    "import warnings\n",
    "# Ignore warning messages\n",
    "warnings.filterwarnings(\"ignore\")"
   ]
  },
  {
   "cell_type": "code",
   "execution_count": 7,
   "id": "6db8a1a1-fc3e-4bee-93f0-39e557bf25e4",
   "metadata": {},
   "outputs": [
    {
     "name": "stdout",
     "output_type": "stream",
     "text": [
      "Ensemble Validation Accuracy: 0.6411290322580645\n"
     ]
    }
   ],
   "source": [
    "# Train the ensemble model\n",
    "ensemble.fit(X_train, y_train)\n",
    "y_pred_val_ensemble = ensemble.predict(X_val)\n",
    "accuracy_ensemble = accuracy_score(y_val, y_pred_val_ensemble)\n",
    "print(f\"Ensemble Validation Accuracy: {accuracy_ensemble}\")\n"
   ]
  },
  {
   "cell_type": "code",
   "execution_count": 11,
   "id": "32bae7c2-2266-4205-ac7a-10a1da78cc48",
   "metadata": {},
   "outputs": [
    {
     "name": "stdout",
     "output_type": "stream",
     "text": [
      "Submission file saved.\n"
     ]
    }
   ],
   "source": [
    "# Predict on the test set using the ensemble model\n",
    "y_pred_test = ensemble.predict(X_test)\n",
    "\n",
    "# Prepare submission DataFrame\n",
    "submission = pd.DataFrame({'ID': test['ID'], 'first_party_winner': y_pred_test})\n",
    "\n",
    "# Save the submission file\n",
    "submission.to_csv('ensemble_submission.csv', index=False)\n",
    "print(\"Submission file saved.\")\n"
   ]
  },
  {
   "cell_type": "code",
   "execution_count": null,
   "id": "a284e3d4-b054-4329-bdba-678cbd6c3eec",
   "metadata": {},
   "outputs": [],
   "source": []
  }
 ],
 "metadata": {
  "kernelspec": {
   "display_name": "Python 3 (ipykernel)",
   "language": "python",
   "name": "python3"
  },
  "language_info": {
   "codemirror_mode": {
    "name": "ipython",
    "version": 3
   },
   "file_extension": ".py",
   "mimetype": "text/x-python",
   "name": "python",
   "nbconvert_exporter": "python",
   "pygments_lexer": "ipython3",
   "version": "3.9.13"
  }
 },
 "nbformat": 4,
 "nbformat_minor": 5
}
