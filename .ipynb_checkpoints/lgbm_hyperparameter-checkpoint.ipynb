{
 "cells": [
  {
   "cell_type": "code",
   "execution_count": 3,
   "id": "743a6930-cf11-4973-bfb0-d02555437352",
   "metadata": {},
   "outputs": [],
   "source": [
    "import pandas as pd\n",
    "from sklearn.model_selection import train_test_split, GridSearchCV\n",
    "from sklearn.feature_extraction.text import TfidfVectorizer\n",
    "from lightgbm import LGBMClassifier\n",
    "from sklearn.metrics import accuracy_score\n",
    "\n",
    "# Read the dataset\n",
    "train = pd.read_csv('./dataset/train.csv')\n",
    "test = pd.read_csv('./dataset/test.csv')\n",
    "\n",
    "vectorizer = TfidfVectorizer()\n",
    "def get_vector(vectorizer, df, train_mode):\n",
    "    if train_mode:\n",
    "        X_facts = vectorizer.fit_transform(df['facts'])\n",
    "    else:\n",
    "        X_facts = vectorizer.transform(df['facts'])\n",
    "    X_party1 = vectorizer.transform(df['first_party'])\n",
    "    X_party2 = vectorizer.transform(df['second_party'])\n",
    "    \n",
    "    X = np.concatenate([X_party1.todense(), X_party2.todense(), X_facts.todense()], axis=1)\n",
    "    return X\n",
    "\n",
    "X_train = get_vector(vectorizer, train, True)\n",
    "y_train = train[\"first_party_winner\"]\n",
    "X_test = get_vector(vectorizer, test, False)\n",
    "\n",
    "# Split the data into train and validation sets\n",
    "X_train, X_val, y_train, y_val = train_test_split(X_train, y_train, test_size=0.2, random_state=42)\n"
   ]
  },
  {
   "cell_type": "code",
   "execution_count": 5,
   "id": "844ebc9c-78a6-42d5-94fe-5d07035f0d49",
   "metadata": {},
   "outputs": [],
   "source": [
    "import warnings\n",
    "# Ignore warning messages\n",
    "warnings.filterwarnings(\"ignore\")"
   ]
  },
  {
   "cell_type": "markdown",
   "id": "1cfcdcc8-0942-4115-b840-cdaf06704478",
   "metadata": {},
   "source": [
    "# Define the parameter grid for hyperparameter tuning\n",
    "param_grid = {\n",
    "    #'n_estimators': [50, 100, 200, 300],\n",
    "    #'learning_rate': [0.1, 0.05, 0.01],\n",
    "    #'num_leaves': [30, 50, 100],\n",
    "    #'max_depth': [3, 5, 7],\n",
    "    #'min_child_samples': [10, 20, 30],\n",
    "    #'subsample': [0.8, 1.0],\n",
    "    'colsample_bytree': [0.8, 1.0],\n",
    "    'reg_alpha': [0.0, 0.1, 0.5],\n",
    "    'reg_lambda': [0.0, 0.1, 0.5]\n",
    "}\n",
    "\n",
    "# Create the LightGBM classifier\n",
    "lgbm_model = LGBMClassifier()\n",
    "\n",
    "# Perform grid search with cross-validation\n",
    "grid_search = GridSearchCV(estimator=lgbm_model, param_grid=param_grid, cv=3)\n",
    "grid_search.fit(X_train, y_train)\n",
    "\n",
    "# Print the best hyperparameters\n",
    "print(\"Best Hyperparameters:\", grid_search.best_params_)"
   ]
  },
  {
   "cell_type": "code",
   "execution_count": 14,
   "id": "f894bb0e-c50a-46b5-8ab5-cc2f42b38164",
   "metadata": {},
   "outputs": [],
   "source": [
    "from lightgbm import LGBMClassifier\n",
    "\n",
    "lgbm_model = LGBMClassifier(learning_rate=0.01, n_estimators=50, num_leaves=30, max_depth=3,\n",
    "                            min_child_samples=10, subsample=0.8,\n",
    "                            colsample_bytree=0.8, reg_alpha=0.5, reg_lambda=0.0)\n",
    "\n",
    "lgbm_model.fit(X_train, y_train)\n",
    "\n",
    "y_pred_val_lgbm = lgbm_model.predict(X_val)"
   ]
  },
  {
   "cell_type": "markdown",
   "id": "e4049cfd-3650-4259-92fb-d304799b05d3",
   "metadata": {},
   "source": [
    "Best Hyperparameters: {'learning_rate': 0.01, 'n_estimators': 50, 'num_leaves': 30}\n",
    "Best Hyperparameters: {'max_depth': 3, 'min_child_samples': 10, 'subsample': 0.8}\n",
    "Best Hyperparameters: {'colsample_bytree': 0.8, 'reg_alpha': 0.5, 'reg_lambda': 0.0}"
   ]
  },
  {
   "cell_type": "code",
   "execution_count": 15,
   "id": "ee829629-a1ed-4bfd-9ac6-54a0bd40d22e",
   "metadata": {},
   "outputs": [
    {
     "name": "stdout",
     "output_type": "stream",
     "text": [
      "Validation Accuracy: 0.6612903225806451\n"
     ]
    }
   ],
   "source": [
    "\n",
    "accuracy = accuracy_score(y_val, y_pred_val_lgbm)\n",
    "print(\"Validation Accuracy:\", accuracy)"
   ]
  },
  {
   "cell_type": "code",
   "execution_count": 16,
   "id": "fd4d6d13-91ef-43e7-bf0b-1579bde17f82",
   "metadata": {},
   "outputs": [
    {
     "name": "stdout",
     "output_type": "stream",
     "text": [
      "Submission file saved.\n"
     ]
    }
   ],
   "source": [
    "# Predict on the test set using the best model\n",
    "y_pred_test = lgbm_model.predict(X_test)\n",
    "\n",
    "# Prepare submission DataFrame\n",
    "submission = pd.DataFrame({'ID': test['ID'], 'first_party_winner': y_pred_test})\n",
    "\n",
    "# Save the submission file\n",
    "submission.to_csv('lgbm_hyped_submission_2.csv', index=False)\n",
    "print(\"Submission file saved.\")"
   ]
  }
 ],
 "metadata": {
  "kernelspec": {
   "display_name": "Python 3 (ipykernel)",
   "language": "python",
   "name": "python3"
  },
  "language_info": {
   "codemirror_mode": {
    "name": "ipython",
    "version": 3
   },
   "file_extension": ".py",
   "mimetype": "text/x-python",
   "name": "python",
   "nbconvert_exporter": "python",
   "pygments_lexer": "ipython3",
   "version": "3.9.13"
  }
 },
 "nbformat": 4,
 "nbformat_minor": 5
}
